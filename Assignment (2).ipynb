{
 "cells": [
  {
   "cell_type": "markdown",
   "id": "e2b3e27e",
   "metadata": {},
   "source": [
    "# Data Science Tools and Ecosystem"
   ]
  },
  {
   "cell_type": "markdown",
   "id": "2beb04e4",
   "metadata": {},
   "source": [
    "In this notebook, we summarize data science tools, libraries, and basic operations."
   ]
  },
  {
   "cell_type": "markdown",
   "id": "edf177a2",
   "metadata": {},
   "source": [
    "Some popular Data Science languages are:\n",
    "1. Python\n",
    "2. R\n",
    "3. SQL\n",
    "4. Julia"
   ]
  },
  {
   "cell_type": "markdown",
   "id": "ed07f09d",
   "metadata": {},
   "source": [
    "Some commonly used Data Science libraries are:\n",
    "1. Pandas\n",
    "2. NumPy\n",
    "3. Matplotlib\n",
    "4. Scikit-learn\n",
    "5. TensorFlow"
   ]
  },
  {
   "cell_type": "markdown",
   "id": "5f1222d1",
   "metadata": {},
   "source": [
    "| Tool             | Category              |\n",
    "|------------------|-----------------------|\n",
    "| Jupyter Notebook | Interactive IDE       |\n",
    "| RStudio          | IDE                   |\n",
    "| Apache Spark     | Big Data Processing   |\n",
    "| TensorFlow       | Deep Learning Library |"
   ]
  },
  {
   "cell_type": "markdown",
   "id": "2638853d",
   "metadata": {},
   "source": [
    "Below are examples of evaluating arithmetic expressions."
   ]
  },
  {
   "cell_type": "code",
   "execution_count": null,
   "id": "59206892",
   "metadata": {},
   "outputs": [],
   "source": [
    "(20 + 5) * 4"
   ]
  },
  {
   "cell_type": "code",
   "execution_count": null,
   "id": "b8ca5e1b",
   "metadata": {},
   "outputs": [],
   "source": [
    "minutes = 200\n",
    "hours = minutes / 60\n",
    "hours"
   ]
  },
  {
   "cell_type": "markdown",
   "id": "4a254dcd",
   "metadata": {},
   "source": [
    "**Objectives:**\n",
    "- List popular languages for Data Science\n",
    "- List commonly used libraries\n",
    "- Create tables of tools\n",
    "- Perform basic arithmetic examples\n",
    "- Convert units"
   ]
  },
  {
   "cell_type": "markdown",
   "id": "3ba00497",
   "metadata": {},
   "source": [
    "**Author:** Your Name"
   ]
  }
 ],
 "metadata": {},
 "nbformat": 4,
 "nbformat_minor": 5
}